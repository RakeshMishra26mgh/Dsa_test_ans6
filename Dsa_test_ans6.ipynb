{
  "nbformat": 4,
  "nbformat_minor": 0,
  "metadata": {
    "colab": {
      "provenance": [],
      "authorship_tag": "ABX9TyNbNbjfkjGunAI/iUbldl6d",
      "include_colab_link": true
    },
    "kernelspec": {
      "name": "python3",
      "display_name": "Python 3"
    },
    "language_info": {
      "name": "python"
    }
  },
  "cells": [
    {
      "cell_type": "markdown",
      "metadata": {
        "id": "view-in-github",
        "colab_type": "text"
      },
      "source": [
        "<a href=\"https://colab.research.google.com/github/RakeshMishra26mgh/Dsa_test_ans6/blob/main/Dsa_test_ans6.ipynb\" target=\"_parent\"><img src=\"https://colab.research.google.com/assets/colab-badge.svg\" alt=\"Open In Colab\"/></a>"
      ]
    },
    {
      "cell_type": "code",
      "execution_count": null,
      "metadata": {
        "id": "9UjaLAkyjTl3"
      },
      "outputs": [],
      "source": [
        "class Queue:\n",
        "\n",
        "    def __init__(self):\n",
        "        self.items = []\n",
        "\n",
        "    def isEmpty(self):\n",
        "        return len(self.items) == 0\n",
        "\n",
        "    def enqueue(self, item):\n",
        "        self.items.append(item)\n",
        "\n",
        "    def dequeue(self):\n",
        "        if self.isEmpty():\n",
        "            return None\n",
        "        else:\n",
        "            return self.items.pop(0)\n",
        "\n",
        "q = Queue()\n",
        "\n",
        "n = int(input(\"Enter the number of operations: \"))\n",
        "\n",
        "for i in range(n):\n",
        "\n",
        "    op = input(\"Enter the operation (enqueue/dequeue/isEmpty): \")\n",
        "\n",
        "    if op == \"enqueue\":\n",
        "        item = input(\"Enter the element to enqueue: \")\n",
        "        q.enqueue(item)\n",
        "        print(f\"Enqueued {item} to the queue.\")\n",
        "    elif op == \"dequeue\":\n",
        "        item = q.dequeue()\n",
        "        if item is None:\n",
        "            print(\"The queue is empty.\")\n",
        "        else:\n",
        "            print(f\"Dequeued {item} from the queue.\")\n",
        "    elif op == \"isEmpty\":\n",
        "        if q.isEmpty():\n",
        "            print(\"The queue is empty.\")\n",
        "        else:\n",
        "            print(\"The queue is not empty.\")\n",
        "    else:\n",
        "        print(\"Invalid operation.\")\n"
      ]
    }
  ]
}